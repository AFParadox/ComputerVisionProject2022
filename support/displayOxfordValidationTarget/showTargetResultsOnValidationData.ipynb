{
 "cells": [
  {
   "cell_type": "markdown",
   "metadata": {},
   "source": [
    "Various imports"
   ]
  },
  {
   "cell_type": "code",
   "execution_count": null,
   "metadata": {},
   "outputs": [],
   "source": [
    "import scipy.io\n",
    "import os, random\n",
    "import numpy as np\n",
    "import matplotlib.pyplot as plt\n",
    "import matplotlib.patches as patches\n",
    "from PIL import Image\n",
    "\n",
    "import requests\n",
    "import tarfile\n",
    "\n",
    "#np.set_printoptions(precision=2, linewidth=250)"
   ]
  },
  {
   "cell_type": "markdown",
   "metadata": {},
   "source": [
    "Download and extract oxford validation dataset.\n",
    "Training dataset could also be used but validation is lighter."
   ]
  },
  {
   "cell_type": "code",
   "execution_count": null,
   "metadata": {},
   "outputs": [],
   "source": [
    "# check if dataset has been downloaded: download it otherwise\n",
    "validation_ds_tar_path = \"validation_dataset.tar.gz\"\n",
    "if not(os.path.exists(validation_ds_tar_path)):\n",
    "    response = requests.get(\"https://www.robots.ox.ac.uk/~vgg/data/hands/downloads/validation_dataset.tar.gz\")\n",
    "    open(\"validation_dataset.tar.gz\", \"wb\").write(response.content)\n",
    "\n",
    "# below there is copy paste of a code of the internet that checks whether dataset is fully extracted or not\n",
    "directory = \".\"\n",
    "def extract_nonexisting(archive):\n",
    "    for name in archive.getnames():\n",
    "        if not os.path.exists(os.path.join(directory, name)):\n",
    "            archive.extract(name, path=directory)\n",
    "\n",
    "archives = [name for name in os.listdir(directory) if name.endswith(\"tar.gz\")]\n",
    "for archive_name in archives:\n",
    "    with tarfile.open(archive_name) as archive:\n",
    "        extract_nonexisting(archive)"
   ]
  },
  {
   "cell_type": "markdown",
   "metadata": {},
   "source": [
    "Now to list all images and randomly select one of them and it's relative annotation file"
   ]
  },
  {
   "cell_type": "code",
   "execution_count": null,
   "metadata": {},
   "outputs": [],
   "source": [
    "# List files inside directory\n",
    "img_list = os.listdir(path=\"validation_dataset/validation_data/images/\")\n",
    "\n",
    "# Randomly choose one\n",
    "rnd = random.randint(0, len(img_list))\n",
    "img_path = img_list[rnd]\n",
    "\n",
    "# Now to select correct annotation\n",
    "t = img_path.split('.')\n",
    "annot_path = t[0] + '.mat'\n",
    "\n",
    "# Delete useless values\n",
    "del(img_list)\n",
    "del(rnd)\n",
    "\n",
    "# Attach full path\n",
    "img_path = \"validation_dataset/validation_data/images/\" + img_path\n",
    "annot_path = \"validation_dataset/validation_data/annotations/\" + annot_path\n",
    "\n",
    "#print(img_path)\n",
    "#print(annot_path)"
   ]
  },
  {
   "cell_type": "code",
   "execution_count": null,
   "metadata": {},
   "outputs": [],
   "source": [
    "# loadmat() returns dict\n",
    "mat = scipy.io.loadmat(annot_path)\n",
    "\n",
    "# print contents of dict\n",
    "#print(\"-------------------------------------------- FULL MAT CONTENT --------------------------------------------------------------\")\n",
    "#for key in mat:\n",
    "#    print(key + \" :  \" + str(mat.get(key)))\n",
    "#print(\"----------------------------------------------------------------------------------------------------------------------------\")\n"
   ]
  },
  {
   "cell_type": "markdown",
   "metadata": {},
   "source": [
    "Convert data to visualize it better in python"
   ]
  },
  {
   "cell_type": "code",
   "execution_count": null,
   "metadata": {},
   "outputs": [],
   "source": [
    "# save points better for python\n",
    "boxes = mat.get('boxes')\n",
    "\n",
    "hand_boxes_accurate : list[np.ndarray] = []\n",
    "for i in range(boxes.shape[1]):\n",
    "    pts = np.zeros(shape=(4,2), dtype=int)\n",
    "    for j in range(4):\n",
    "        pts[j,0] = round(boxes[0,i][0,0][j][0,1])\n",
    "        pts[j,1] = round(boxes[0,i][0,0][j][0,0])\n",
    "    hand_boxes_accurate.append(pts)\n",
    "    del(pts)\n",
    "\n",
    "\n",
    "#print(\"------------------------------------------- ADAPTED MAT CONTENT ------------------------------------------------------------\")\n",
    "#for elem in hand_boxes_accurate:\n",
    "#    print(elem)\n",
    "#print(\"----------------------------------------------------------------------------------------------------------------------------\")"
   ]
  },
  {
   "cell_type": "markdown",
   "metadata": {},
   "source": [
    "Show image using matplotlib and draw rectangles on it"
   ]
  },
  {
   "cell_type": "code",
   "execution_count": null,
   "metadata": {},
   "outputs": [],
   "source": [
    "# load image into ram\n",
    "img = Image.open(img_path)\n",
    "\n",
    "# create figure and axes\n",
    "fig, ax = plt.subplots(dpi=220)\n",
    "\n",
    "# display the image\n",
    "ax.imshow(img)\n",
    "\n",
    "# add accurate bounding boxes\n",
    "for pts in hand_boxes_accurate:\n",
    "    polygon = patches.Polygon(pts, linewidth=1, edgecolor='r', facecolor='none')\n",
    "    ax.add_patch(polygon)\n",
    "\n",
    "# compute and add relaxed bounding boxes\n",
    "for pts in hand_boxes_accurate:\n",
    "    origin_pt = np.amin(pts, axis=0)\n",
    "    end_pt = np.amax(pts, axis=0)\n",
    "    size = np.subtract(end_pt, origin_pt)\n",
    "    \n",
    "    rect = patches.Rectangle(tuple(origin_pt), size[0], size[1], linewidth=1, edgecolor='g', facecolor='none')\n",
    "    ax.add_patch(rect)\n",
    "\n",
    "plt.show()"
   ]
  }
 ],
 "metadata": {
  "kernelspec": {
   "display_name": "Python 3.10.5 64-bit",
   "language": "python",
   "name": "python3"
  },
  "language_info": {
   "codemirror_mode": {
    "name": "ipython",
    "version": 3
   },
   "file_extension": ".py",
   "mimetype": "text/x-python",
   "name": "python",
   "nbconvert_exporter": "python",
   "pygments_lexer": "ipython3",
   "version": "3.10.5"
  },
  "orig_nbformat": 4,
  "vscode": {
   "interpreter": {
    "hash": "e7370f93d1d0cde622a1f8e1c04877d8463912d04d973331ad4851f04de6915a"
   }
  }
 },
 "nbformat": 4,
 "nbformat_minor": 2
}
